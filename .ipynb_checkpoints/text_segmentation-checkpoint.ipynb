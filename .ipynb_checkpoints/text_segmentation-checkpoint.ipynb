{
 "cells": [
  {
   "cell_type": "code",
   "execution_count": 28,
   "metadata": {
    "collapsed": false
   },
   "outputs": [
    {
     "name": "stderr",
     "output_type": "stream",
     "text": [
      "Building prefix dict from the default dictionary ...\n",
      "Dumping model to file cache /tmp/jieba.cache\n",
      "Loading model cost 1.592 seconds.\n",
      "Prefix dict has been built succesfully.\n"
     ]
    },
    {
     "name": "stdout",
     "output_type": "stream",
     "text": [
      "{'咖啡': 2, '的': 17, '追': 2, '一切': 2, '有點': 2, '說': 5, '只要': 2, '輕易': 2, '起': 2, '我手': 2, '寫錯': 2, 'Mojim': 1, 'com': 1, '害怕': 2, '一起': 1, '誰': 2, '多': 1, '禮物': 2, '我': 5, '難': 2, '任性': 3, '一杯': 2, '會': 2, '品嚐': 2, '最貴': 2, '願意': 3, '飄': 1, '很': 2, '擁有': 4, '落葉': 2, '有': 1, '塞納': 2, '\\u3000': 1, '香榭': 2, '戀愛日記': 1, '愛上': 3, '左岸': 2, '那天': 2, '※': 1, '回憶': 1, '飛': 2, '微笑': 2, '唇': 2, '花店': 2, '甜蜜': 2, '氣球': 2, '就': 2, '親愛的': 6, '魔鏡': 1, '別': 3, '營造': 2, '眼睛': 3, '天上': 2, '風吹到': 2, '河畔': 2, '讓': 2, '嘴': 2, '街': 2, '\\n': 45, '更': 2, '知難': 2, '名字': 2, '香水': 1, '需': 2, ' ': 33, '挑': 2, '全世界': 2, '一整瓶': 1, '美': 2, '對': 2, '從': 2, '在': 7, '搞砸': 2, '想': 2, '告白': 2, '玫瑰': 2, '攪拌': 1, '夢境': 1, '浪漫': 2, '詞網': 1, '.': 1, '退': 2, '印': 2, '全都': 1, '你': 15, '不': 4, '歌詞': 1, '約': 2, '歌': 1, '留下': 2, '而': 2, '詳盡': 1}\n"
     ]
    }
   ],
   "source": [
    "import jieba\n",
    "import jieba.analyse\n",
    "\n",
    "count = {}\n",
    "\n",
    "content = open('data/lyric.txt').read()\n",
    "words = jieba.cut(content)\n",
    "tags = jieba.analyse.extract_tags(content, 10)\n",
    "\n",
    "for word in words:\n",
    "    if word in count:\n",
    "        count[word] += 1\n",
    "    else:\n",
    "        count[word] = 1\n",
    "        \n",
    "print(count)"
   ]
  },
  {
   "cell_type": "code",
   "execution_count": 36,
   "metadata": {
    "collapsed": false
   },
   "outputs": [
    {
     "name": "stdout",
     "output_type": "stream",
     "text": [
      "塞納河畔 左岸的咖啡\n",
      "我手一杯 品嚐你的美\n",
      "留下唇印的嘴\n",
      "\n",
      "花店玫瑰 名字寫錯誰\n",
      "告白氣球 風吹到對街\n",
      "微笑在天上飛\n",
      "\n",
      "你說你有點難追 想讓我知難而退\n",
      "禮物不需挑最貴 只要香榭的落葉\n",
      "營造浪漫的約會 不害怕搞砸一切\n",
      "擁有你就擁有 全世界\n",
      "\n",
      "親愛的 愛上你 從那天起\n",
      "甜蜜的很輕易\n",
      "親愛的 別任性 你的眼睛\n",
      "在說我願意\n",
      "\n",
      "塞納河畔 左岸的咖啡\n",
      "我手一杯 品嚐你的美\n",
      "留下唇印的嘴\n",
      "\n",
      "更多更詳盡歌詞 在 ※ Mojim.com　魔鏡歌詞網 \n",
      "花店玫瑰 名字寫錯誰\n",
      "告白氣球 風吹到對街\n",
      "微笑在天上飛\n",
      "\n",
      "你說你有點難追 想讓我知難而退\n",
      "禮物不需挑最貴 只要香榭的落葉\n",
      "營造浪漫的約會 不害怕搞砸一切\n",
      "擁有你就擁有 全世界\n",
      "\n",
      "親愛的 愛上你 從那天起\n",
      "甜蜜的很輕易\n",
      "親愛的 別任性 你的眼睛\n",
      "在說我願意\n",
      "\n",
      "親愛的 愛上你 戀愛日記\n",
      "飄香水的回憶\n",
      "一整瓶 的夢境 全都有你\n",
      "攪拌在一起\n",
      "\n",
      "親愛的別任性 你的眼睛\n",
      "在說我願意\n",
      "\n",
      "\n",
      "<class 'list'>\n"
     ]
    }
   ],
   "source": [
    "data = open('data/lyric.txt')\n",
    "\n",
    "with data as f:\n",
    "    data = list(f)\n",
    "\n",
    "# with data as f:\n",
    "#     data = [line.rstrip('\\n') for line in f]\n",
    "\n",
    "data = ''.join(data)\n",
    "# priant(a)\n",
    "print(data.__class__)\n",
    "# print(data.read())"
   ]
  },
  {
   "cell_type": "code",
   "execution_count": 27,
   "metadata": {
    "collapsed": false
   },
   "outputs": [
    {
     "name": "stdout",
     "output_type": "stream",
     "text": [
      "Jizza\n"
     ]
    }
   ],
   "source": [
    "a = \"Jizzazz\"\n",
    "print(a.rstrip('z'))"
   ]
  }
 ],
 "metadata": {
  "kernelspec": {
   "display_name": "Python [Root]",
   "language": "python",
   "name": "Python [Root]"
  },
  "language_info": {
   "codemirror_mode": {
    "name": "ipython",
    "version": 3
   },
   "file_extension": ".py",
   "mimetype": "text/x-python",
   "name": "python",
   "nbconvert_exporter": "python",
   "pygments_lexer": "ipython3",
   "version": "3.5.2"
  }
 },
 "nbformat": 4,
 "nbformat_minor": 2
}
